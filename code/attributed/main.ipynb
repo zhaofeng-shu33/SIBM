{
 "cells": [
  {
   "cell_type": "code",
   "execution_count": 1,
   "metadata": {},
   "outputs": [],
   "source": [
    "import pandas\n",
    "attr = pandas.read_csv('LazegaLawyers/ELattr.dat', sep=' ', header=None)"
   ]
  },
  {
   "cell_type": "code",
   "execution_count": 8,
   "metadata": {},
   "outputs": [],
   "source": [
    "ground_truth = attr[1].to_numpy()"
   ]
  },
  {
   "cell_type": "code",
   "execution_count": 2,
   "metadata": {},
   "outputs": [],
   "source": [
    "import pandas as pd\n",
    "gender = pd.get_dummies(attr[2], prefix='gender')\n",
    "office = pd.get_dummies(attr[3], prefix='office')\n",
    "practice = pd.get_dummies(attr[6], prefix='practice')\n",
    "law_school = pd.get_dummies(attr[7], prefix='law_school')"
   ]
  },
  {
   "cell_type": "code",
   "execution_count": 3,
   "metadata": {},
   "outputs": [],
   "source": [
    "encoded = gender.join(office).join(practice).join(law_school).join(attr[4]).join(attr[5])"
   ]
  },
  {
   "cell_type": "code",
   "execution_count": 4,
   "metadata": {},
   "outputs": [],
   "source": [
    "import numpy as np\n",
    "np_data = encoded.to_numpy()\n"
   ]
  },
  {
   "cell_type": "code",
   "execution_count": 5,
   "metadata": {},
   "outputs": [],
   "source": [
    "import sklearn\n",
    "from sklearn.preprocessing import MinMaxScaler\n",
    "scaler = MinMaxScaler()\n",
    "scaler.fit(np_data)\n",
    "np_data_normalized = scaler.transform(np_data)\n"
   ]
  },
  {
   "cell_type": "code",
   "execution_count": 16,
   "metadata": {},
   "outputs": [],
   "source": [
    "from spectral_clustering import SpectralClustering\n",
    "sc = SpectralClustering(2, gamma=0.1)\n",
    "sc.fit(np_data_normalized)"
   ]
  },
  {
   "cell_type": "code",
   "execution_count": 17,
   "metadata": {},
   "outputs": [
    {
     "data": {
      "text/plain": [
       "array([[-0.11867817,  0.02301212],\n",
       "       [-0.11867817, -0.00365817],\n",
       "       [-0.11867817,  0.02401904],\n",
       "       [-0.11867817,  0.01433933],\n",
       "       [-0.11867817,  0.04248425],\n",
       "       [-0.11867817,  0.02825224],\n",
       "       [-0.11867817,  0.01742075],\n",
       "       [-0.11867817,  0.03046651],\n",
       "       [-0.11867817, -0.00299648],\n",
       "       [-0.11867817,  0.01279376],\n",
       "       [-0.11867817,  0.01941364],\n",
       "       [-0.11867817,  0.01144439],\n",
       "       [-0.11867817,  0.02793069],\n",
       "       [-0.11867817, -0.01401642],\n",
       "       [-0.11867817, -0.00875551],\n",
       "       [-0.11867817, -0.00268936],\n",
       "       [-0.11867817, -0.00283753],\n",
       "       [-0.11867817,  0.03337213],\n",
       "       [-0.11867817, -0.0027667 ],\n",
       "       [-0.11867817,  0.01864928],\n",
       "       [-0.11867817,  0.02657204],\n",
       "       [-0.11867817,  0.02689877],\n",
       "       [-0.11867817,  0.02638376],\n",
       "       [-0.11867817,  0.02628558],\n",
       "       [-0.11867817,  0.01160049],\n",
       "       [-0.11867817,  0.02743444],\n",
       "       [-0.11867817, -0.00499631],\n",
       "       [-0.11867817,  0.01160151],\n",
       "       [-0.11867817, -0.01362186],\n",
       "       [-0.11867817,  0.0338726 ],\n",
       "       [-0.11867817,  0.03308901],\n",
       "       [-0.11867817,  0.03476749],\n",
       "       [-0.11867817,  0.03409669],\n",
       "       [-0.11867817, -0.01494261],\n",
       "       [-0.11867817,  0.01381835],\n",
       "       [-0.11867817,  0.027004  ],\n",
       "       [-0.11867817, -0.00989262],\n",
       "       [-0.11867817,  0.01246246],\n",
       "       [-0.11867817, -0.00460903],\n",
       "       [-0.11867817,  0.01861935],\n",
       "       [-0.11867817,  0.02695547],\n",
       "       [-0.11867817,  0.01099009],\n",
       "       [-0.11867817,  0.01257383],\n",
       "       [-0.11867817, -0.98354002],\n",
       "       [-0.11867817,  0.01156816],\n",
       "       [-0.11867817, -0.03679083],\n",
       "       [-0.11867817,  0.0238833 ],\n",
       "       [-0.11867817, -0.01495646],\n",
       "       [-0.11867817,  0.02641275],\n",
       "       [-0.11867817,  0.01211886],\n",
       "       [-0.11867817,  0.0223007 ],\n",
       "       [-0.11867817,  0.02843714],\n",
       "       [-0.11867817,  0.01176428],\n",
       "       [-0.11867817,  0.02850869],\n",
       "       [-0.11867817,  0.02779873],\n",
       "       [-0.11867817,  0.02629779],\n",
       "       [-0.11867817,  0.01384997],\n",
       "       [-0.11867817,  0.0351405 ],\n",
       "       [-0.11867817,  0.01846653],\n",
       "       [-0.11867817, -0.01580783],\n",
       "       [-0.11867817, -0.0146421 ],\n",
       "       [-0.11867817,  0.01086342],\n",
       "       [-0.11867817,  0.01247314],\n",
       "       [-0.11867817, -0.01712531],\n",
       "       [-0.11867817,  0.02877261],\n",
       "       [-0.11867817,  0.02729118],\n",
       "       [-0.11867817,  0.01360558],\n",
       "       [-0.11867817,  0.02926924],\n",
       "       [-0.11867817,  0.0151138 ],\n",
       "       [-0.11867817,  0.01097437],\n",
       "       [-0.11867817,  0.01511037]])"
      ]
     },
     "execution_count": 17,
     "metadata": {},
     "output_type": "execute_result"
    }
   ],
   "source": [
    "sc.embedding_features"
   ]
  },
  {
   "cell_type": "code",
   "execution_count": 11,
   "metadata": {},
   "outputs": [
    {
     "name": "stdout",
     "output_type": "stream",
     "text": [
      "36\n"
     ]
    }
   ],
   "source": [
    "print(np.sum(ground_truth==1))"
   ]
  },
  {
   "cell_type": "code",
   "execution_count": 19,
   "metadata": {},
   "outputs": [
    {
     "data": {
      "text/plain": [
       "(array([43], dtype=int64),)"
      ]
     },
     "execution_count": 19,
     "metadata": {},
     "output_type": "execute_result"
    }
   ],
   "source": [
    "np.where(sc.labels_==1)"
   ]
  },
  {
   "cell_type": "code",
   "execution_count": 21,
   "metadata": {},
   "outputs": [
    {
     "data": {
      "text/plain": [
       "array([[0.        , 1.        , 1.        , 0.        , 0.        ,\n",
       "        1.        , 0.        , 0.        , 1.        , 0.        ,\n",
       "        0.12903226, 0.51219512],\n",
       "       [0.        , 1.        , 0.        , 0.        , 1.        ,\n",
       "        0.        , 1.        , 1.        , 0.        , 0.        ,\n",
       "        0.12903226, 0.65853659],\n",
       "       [1.        , 0.        , 1.        , 0.        , 0.        ,\n",
       "        0.        , 1.        , 0.        , 0.        , 1.        ,\n",
       "        0.06451613, 0.29268293]])"
      ]
     },
     "execution_count": 21,
     "metadata": {},
     "output_type": "execute_result"
    }
   ],
   "source": [
    "np_data_normalized[42:45,:]"
   ]
  },
  {
   "cell_type": "code",
   "execution_count": null,
   "metadata": {},
   "outputs": [],
   "source": [
    "from sklearn.metrics.cluster import normalized_mutual_info_score\n",
    "nmi = normalized_mutual_info_score(ground_truth, cat_1)"
   ]
  }
 ],
 "metadata": {
  "kernelspec": {
   "display_name": "Python 3",
   "language": "python",
   "name": "python3"
  },
  "language_info": {
   "codemirror_mode": {
    "name": "ipython",
    "version": 3
   },
   "file_extension": ".py",
   "mimetype": "text/x-python",
   "name": "python",
   "nbconvert_exporter": "python",
   "pygments_lexer": "ipython3",
   "version": "3.10.4"
  },
  "orig_nbformat": 4
 },
 "nbformat": 4,
 "nbformat_minor": 2
}
