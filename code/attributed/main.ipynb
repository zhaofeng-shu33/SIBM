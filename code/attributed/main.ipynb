{
 "cells": [
  {
   "cell_type": "code",
   "execution_count": 11,
   "metadata": {},
   "outputs": [],
   "source": [
    "import pandas\n",
    "attr = pandas.read_csv('LazegaLawyers/ELattr.dat', sep=' ', header=None)"
   ]
  },
  {
   "cell_type": "code",
   "execution_count": 12,
   "metadata": {},
   "outputs": [],
   "source": [
    "ground_truth = attr[1].to_numpy()"
   ]
  },
  {
   "cell_type": "code",
   "execution_count": 13,
   "metadata": {},
   "outputs": [],
   "source": [
    "import pandas as pd\n",
    "gender = attr[2]\n",
    "office = pd.get_dummies(attr[3], prefix='office')\n",
    "practice = attr[6]\n",
    "law_school = pd.get_dummies(attr[7], prefix='law_school')"
   ]
  },
  {
   "cell_type": "code",
   "execution_count": 14,
   "metadata": {},
   "outputs": [],
   "source": [
    "encoded = office.join(gender).join(practice).join(law_school).join(attr[4]).join(attr[5])"
   ]
  },
  {
   "cell_type": "code",
   "execution_count": 15,
   "metadata": {},
   "outputs": [],
   "source": [
    "import numpy as np\n",
    "np_data = encoded.to_numpy()\n"
   ]
  },
  {
   "cell_type": "code",
   "execution_count": 16,
   "metadata": {},
   "outputs": [],
   "source": [
    "from spectral_clustering import SpectralClustering\n",
    "sc = SpectralClustering(2, gamma=0.01)\n",
    "sc.fit(np_data)\n",
    "import sklearn\n",
    "from sklearn.preprocessing import MinMaxScaler\n",
    "scaler = MinMaxScaler()\n",
    "scaler.fit(sc.embedding_features[:,1].reshape(-1, 1))\n",
    "sc_embedding_features= scaler.transform(sc.embedding_features[:,1].reshape(-1, 1))\n",
    "sc_embedding_features = sc_embedding_features[:, 0]\n"
   ]
  },
  {
   "cell_type": "code",
   "execution_count": 17,
   "metadata": {},
   "outputs": [],
   "source": [
    "from sklearn.cluster import KMeans\n",
    "kmeans_label = KMeans(n_clusters=2).fit(np_data).labels_"
   ]
  },
  {
   "cell_type": "code",
   "execution_count": 18,
   "metadata": {},
   "outputs": [],
   "source": [
    "from sklearn.metrics.cluster import normalized_mutual_info_score\n",
    "nmi = normalized_mutual_info_score(ground_truth, kmeans_label)"
   ]
  },
  {
   "cell_type": "code",
   "execution_count": 19,
   "metadata": {},
   "outputs": [],
   "source": [
    "friends_matrix = pandas.read_csv('LazegaLawyers/ELfriend.dat', sep=' ', header=None)"
   ]
  },
  {
   "cell_type": "code",
   "execution_count": 20,
   "metadata": {},
   "outputs": [],
   "source": [
    "adj_matrix = friends_matrix.to_numpy()\n"
   ]
  },
  {
   "cell_type": "code",
   "execution_count": 21,
   "metadata": {},
   "outputs": [],
   "source": [
    "removed_index = 32\n",
    "adj_matrix_new = np.delete(adj_matrix, removed_index, 0)\n",
    "adj_matrix_new = np.delete(adj_matrix_new, removed_index, 1)\n",
    "ground_truth_new = np.delete(ground_truth, removed_index, 0)\n",
    "sc_embedding_features_new = np.delete(sc_embedding_features, removed_index, 0)"
   ]
  },
  {
   "cell_type": "code",
   "execution_count": 22,
   "metadata": {},
   "outputs": [],
   "source": [
    "side_info = np.delete(kmeans_label, removed_index, 0)\n",
    "h = side_info * 2 - 1"
   ]
  },
  {
   "cell_type": "code",
   "execution_count": 23,
   "metadata": {},
   "outputs": [],
   "source": [
    "import networkx as nx\n",
    "G = nx.from_numpy_matrix(adj_matrix_new)"
   ]
  },
  {
   "cell_type": "code",
   "execution_count": 24,
   "metadata": {},
   "outputs": [],
   "source": [
    "from sdp2_si_B import sdp2_si_B, sdp2\n",
    "labels_sdp = sdp2(G)"
   ]
  },
  {
   "cell_type": "code",
   "execution_count": 25,
   "metadata": {},
   "outputs": [],
   "source": [
    "nmi_spectral = normalized_mutual_info_score(ground_truth_new, sc_embedding_features_new > np.median(sc_embedding_features_new))\n",
    "nmi_sdp = normalized_mutual_info_score(ground_truth_new, labels_sdp)\n",
    "nmi_kmeans = normalized_mutual_info_score(ground_truth_new, side_info)"
   ]
  },
  {
   "cell_type": "code",
   "execution_count": 26,
   "metadata": {},
   "outputs": [
    {
     "name": "stdout",
     "output_type": "stream",
     "text": [
      "0.43760256005500425 0.25076453026557205 0.33903766485579234\n"
     ]
    }
   ],
   "source": [
    "print(nmi_kmeans, nmi_sdp, nmi_spectral)"
   ]
  },
  {
   "cell_type": "code",
   "execution_count": 27,
   "metadata": {},
   "outputs": [
    {
     "name": "stderr",
     "output_type": "stream",
     "text": [
      "c:\\Users\\zhaofeng-shu33\\AppData\\Local\\Programs\\Python\\Python310\\lib\\site-packages\\sklearn\\manifold\\_spectral_embedding.py:233: UserWarning: Array is not symmetric, and will be converted to symmetric by average with its transpose.\n",
      "  adjacency = check_symmetric(adjacency)\n",
      "c:\\Users\\zhaofeng-shu33\\AppData\\Local\\Programs\\Python\\Python310\\lib\\site-packages\\sklearn\\manifold\\_spectral_embedding.py:259: UserWarning: Graph is not fully connected, spectral embedding may not work as expected.\n",
      "  warnings.warn(\n"
     ]
    }
   ],
   "source": [
    "from sklearn import cluster\n",
    "sc_ = cluster.SpectralClustering(2, affinity='precomputed')\n",
    "sc_.fit(adj_matrix_new)\n",
    "sc_graph_score = normalized_mutual_info_score(ground_truth_new, sc_.labels_)"
   ]
  },
  {
   "cell_type": "code",
   "execution_count": 28,
   "metadata": {},
   "outputs": [],
   "source": [
    "alpha_list_sp = [0.1, 1, 2, 5, 10, 30] # np.logspace(0, 2)\n",
    "nmi_si_list_sp = []\n",
    "for alpha in alpha_list_sp:\n",
    "    labels_si = sdp2_si_B(G, alpha * h)\n",
    "    nmi_si = normalized_mutual_info_score(ground_truth_new, labels_si)\n",
    "    nmi_si_list_sp.append(nmi_si)"
   ]
  },
  {
   "cell_type": "code",
   "execution_count": 29,
   "metadata": {},
   "outputs": [],
   "source": [
    "alpha_list = [1, 2, 5, 10, 30, 32] # np.logspace(0, 2)\n",
    "nmi_si_list = []\n",
    "for alpha in alpha_list:\n",
    "    labels_si = sdp2_si_B(G, alpha * h)\n",
    "    nmi_si = normalized_mutual_info_score(ground_truth_new, labels_si)\n",
    "    nmi_si_list.append(nmi_si)"
   ]
  },
  {
   "cell_type": "code",
   "execution_count": 30,
   "metadata": {},
   "outputs": [
    {
     "data": {
      "image/png": "[encoded data removed]",
      "text/plain": [
       "<Figure size 640x480 with 1 Axes>"
      ]
     },
     "metadata": {},
     "output_type": "display_data"
    }
   ],
   "source": [
    "import matplotlib.pyplot as plt\n",
    "plt.plot(alpha_list, nmi_si_list, linewidth=1, marker='+', color='blue', label='KMeans')\n",
    "plt.plot(alpha_list_sp, nmi_si_list_sp, linewidth=1, marker='x', color='red', label='SpectralEmbedding')\n",
    "plt.xlabel('$\\\\xi$', size='large')\n",
    "plt.ylabel(\"NMI\", size='large')\n",
    "plt.legend()\n",
    "plt.savefig('sdp_si_friendship.pdf')\n",
    "plt.show()"
   ]
  }
 ],
 "metadata": {
  "kernelspec": {
   "display_name": "Python 3",
   "language": "python",
   "name": "python3"
  },
  "language_info": {
   "codemirror_mode": {
    "name": "ipython",
    "version": 3
   },
   "file_extension": ".py",
   "mimetype": "text/x-python",
   "name": "python",
   "nbconvert_exporter": "python",
   "pygments_lexer": "ipython3",
   "version": "3.10.4"
  },
  "orig_nbformat": 4
 },
 "nbformat": 4,
 "nbformat_minor": 2
}
