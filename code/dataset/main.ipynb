{
 "cells": [
  {
   "cell_type": "code",
   "execution_count": 1,
   "metadata": {},
   "outputs": [],
   "source": [
    "import networkx as nx\n",
    "\n",
    "G = nx.read_gml('football.gml')"
   ]
  },
  {
   "cell_type": "code",
   "execution_count": 11,
   "metadata": {},
   "outputs": [],
   "source": [
    "n = len(G.nodes)\n",
    "cat = [G.nodes[i]['value'] for i in G.nodes]"
   ]
  },
  {
   "cell_type": "code",
   "execution_count": 23,
   "metadata": {},
   "outputs": [],
   "source": [
    "k = max(cat) + 1\n",
    "results_partition2 = nx.algorithms.community.asyn_fluidc(G,k)\n",
    "cat_2 = convert_to_label_list(G, results_partition2)"
   ]
  },
  {
   "cell_type": "code",
   "execution_count": 50,
   "metadata": {},
   "outputs": [],
   "source": [
    "dataset = 'polbooks'\n",
    "G = nx.read_gml(dataset + '.gml', label='id')\n",
    "_G = nx.Graph()\n",
    "n = G.number_of_nodes()\n",
    "for i in range(n):\n",
    "    _G.add_node(i, value=G.nodes[i]['value'])\n",
    "g = list(G.nodes)\n",
    "for edge in G.edges():\n",
    "    _G.add_edge(edge[0]-1, edge[1]-1)\n",
    "nx.write_gml(_G, dataset + '_g.gml')"
   ]
  },
  {
   "cell_type": "code",
   "execution_count": 52,
   "metadata": {},
   "outputs": [
    {
     "data": {
      "text/plain": [
       "0.522045776761016"
      ]
     },
     "execution_count": 52,
     "metadata": {},
     "output_type": "execute_result"
    }
   ],
   "source": [
    "import numpy as np\n",
    "np.exp(-0.5*1.3)"
   ]
  },
  {
   "cell_type": "code",
   "execution_count": 40,
   "metadata": {},
   "outputs": [],
   "source": [
    "np.random.randint()"
   ]
  },
  {
   "cell_type": "code",
   "execution_count": 41,
   "metadata": {},
   "outputs": [
    {
     "data": {
      "text/plain": [
       "34"
      ]
     },
     "execution_count": 41,
     "metadata": {},
     "output_type": "execute_result"
    }
   ],
   "source": [
    "max(a)"
   ]
  },
  {
   "cell_type": "code",
   "execution_count": 6,
   "metadata": {},
   "outputs": [],
   "source": [
    "results_partition = nx.algorithms.community.modularity_max.greedy_modularity_communities(G)"
   ]
  },
  {
   "cell_type": "code",
   "execution_count": 16,
   "metadata": {},
   "outputs": [],
   "source": [
    "def convert_to_label_list(G, partition):\n",
    "    g = list(G.nodes)\n",
    "    n = len(g)\n",
    "    cat = [0 for i in range(n)]\n",
    "    label_index = 0\n",
    "    for i in partition:\n",
    "        for j in i:\n",
    "            cat[g.index(j)] = label_index\n",
    "        label_index += 1\n",
    "    return cat\n",
    "cat_1 = convert_to_label_list(G, results_partition)"
   ]
  },
  {
   "cell_type": "code",
   "execution_count": 20,
   "metadata": {},
   "outputs": [],
   "source": [
    "from sklearn.metrics.cluster import normalized_mutual_info_score\n",
    "nmi = normalized_mutual_info_score(cat, cat_1)"
   ]
  },
  {
   "cell_type": "code",
   "execution_count": 24,
   "metadata": {},
   "outputs": [
    {
     "name": "stdout",
     "output_type": "stream",
     "text": [
      "0.8861225013151648\n"
     ]
    }
   ],
   "source": [
    "nmi2 = normalized_mutual_info_score(cat, cat_2)\n",
    "print(nmi2)"
   ]
  }
 ],
 "metadata": {
  "kernelspec": {
   "display_name": "Python 3",
   "language": "python",
   "name": "python3"
  },
  "language_info": {
   "codemirror_mode": {
    "name": "ipython",
    "version": 3
   },
   "file_extension": ".py",
   "mimetype": "text/x-python",
   "name": "python",
   "nbconvert_exporter": "python",
   "pygments_lexer": "ipython3",
   "version": "3.10.4"
  },
  "orig_nbformat": 4
 },
 "nbformat": 4,
 "nbformat_minor": 2
}
